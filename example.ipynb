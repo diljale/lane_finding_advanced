{
 "cells": [
  {
   "cell_type": "markdown",
   "metadata": {},
   "source": [
    "## Advanced Lane Finding Project\n",
    "\n",
    "The goals / steps of this project are the following:\n",
    "\n",
    "* Compute the camera calibration matrix and distortion coefficients given a set of chessboard images.\n",
    "* Apply a distortion correction to raw images.\n",
    "* Use color transforms, gradients, etc., to create a thresholded binary image.\n",
    "* Apply a perspective transform to rectify binary image (\"birds-eye view\").\n",
    "* Detect lane pixels and fit to find the lane boundary.\n",
    "* Determine the curvature of the lane and vehicle position with respect to center.\n",
    "* Warp the detected lane boundaries back onto the original image.\n",
    "* Output visual display of the lane boundaries and numerical estimation of lane curvature and vehicle position.\n",
    "\n",
    "---\n",
    "## First, I'll compute the camera calibration using chessboard images"
   ]
  },
  {
   "cell_type": "code",
   "execution_count": 1,
   "metadata": {},
   "outputs": [
    {
     "name": "stdout",
     "output_type": "stream",
     "text": [
      "camera_cal\\calibration10.jpg\n",
      "camera_cal\\calibration11.jpg\n",
      "camera_cal\\calibration12.jpg\n",
      "camera_cal\\calibration13.jpg\n",
      "camera_cal\\calibration14.jpg\n",
      "camera_cal\\calibration15.jpg\n",
      "camera_cal\\calibration16.jpg\n",
      "camera_cal\\calibration17.jpg\n",
      "camera_cal\\calibration18.jpg\n",
      "camera_cal\\calibration19.jpg\n",
      "camera_cal\\calibration2.jpg\n",
      "camera_cal\\calibration20.jpg\n",
      "camera_cal\\calibration3.jpg\n",
      "camera_cal\\calibration6.jpg\n",
      "camera_cal\\calibration7.jpg\n",
      "camera_cal\\calibration8.jpg\n",
      "camera_cal\\calibration9.jpg\n"
     ]
    }
   ],
   "source": [
    "import numpy as np\n",
    "import cv2\n",
    "import glob\n",
    "import matplotlib.pyplot as plt\n",
    "%matplotlib inline\n",
    "\n",
    "# prepare object points, like (0,0,0), (1,0,0), (2,0,0) ....,(6,5,0)\n",
    "objp = np.zeros((6*9,3), np.float32)\n",
    "objp[:,:2] = np.mgrid[0:9,0:6].T.reshape(-1,2)\n",
    "\n",
    "# Arrays to store object points and image points from all the images.\n",
    "objpoints = [] # 3d points in real world space\n",
    "imgpoints = [] # 2d points in image plane.\n",
    "\n",
    "# Make a list of calibration images\n",
    "images = glob.glob('camera_cal\\calibration*.jpg')\n",
    "\n",
    "# Step through the list and search for chessboard corners\n",
    "for fname in images:\n",
    "    img = cv2.imread(fname)\n",
    "    gray = cv2.cvtColor(img,cv2.COLOR_BGR2GRAY)\n",
    "    \n",
    "    # Find the chessboard corners\n",
    "    ret, corners = cv2.findChessboardCorners(gray, (9,6),None)\n",
    "\n",
    "    # If found, add object points, image points\n",
    "    if ret == True:\n",
    "        print(fname)\n",
    "        objpoints.append(objp)\n",
    "        imgpoints.append(corners)\n",
    "\n",
    "        # Draw and display the corners\n",
    "        img = cv2.drawChessboardCorners(img, (9,6), corners, ret)\n",
    "#        cv2.imshow('img',img)\n",
    "        cv2.imwrite(\"output_images\\calibration_corners.jpg\", img)\n",
    "#        cv2.waitKey(500)\n",
    "\n",
    "cv2.destroyAllWindows()\n",
    "\n",
    "objpointsArr = np.array(objpoints)\n",
    "ret, mtx, dist, rvecs, tvecs = cv2.calibrateCamera(objpoints,imgpoints, gray.shape[::-1], None, None)"
   ]
  },
  {
   "cell_type": "markdown",
   "metadata": {},
   "source": [
    "## Function to undistort images"
   ]
  },
  {
   "cell_type": "code",
   "execution_count": 2,
   "metadata": {
    "collapsed": true
   },
   "outputs": [],
   "source": [
    "def cal_undistort(img):\n",
    "    # Use cv2.calibrateCamera() and cv2.undistort()\n",
    "    gray = cv2.cvtColor(img,cv2.COLOR_BGR2GRAY)\n",
    "    undist = cv2.undistort(img, mtx, dist, None, mtx)\n",
    "    return undist\n",
    "\n"
   ]
  },
  {
   "cell_type": "code",
   "execution_count": 3,
   "metadata": {
    "collapsed": true
   },
   "outputs": [],
   "source": [
    "def detect_edges(img, s_thresh=(170, 255), sx_thresh=(20, 100)):\n",
    "    img = np.copy(img)\n",
    "    # Convert to HSV color space and separate the V channel\n",
    "    hsv = cv2.cvtColor(img, cv2.COLOR_RGB2HLS).astype(np.float)\n",
    "    l_channel = hsv[:,:,1]\n",
    "    s_channel = hsv[:,:,2]\n",
    "    # Sobel x\n",
    "    sobelx = cv2.Sobel(l_channel, cv2.CV_64F, 1, 0) # Take the derivative in x\n",
    "    abs_sobelx = np.absolute(sobelx) # Absolute x derivative to accentuate lines away from horizontal\n",
    "    scaled_sobel = np.uint8(255*abs_sobelx/np.max(abs_sobelx))\n",
    "    \n",
    "    # Threshold x gradient\n",
    "    sxbinary = np.zeros_like(scaled_sobel)\n",
    "    sxbinary[(scaled_sobel >= sx_thresh[0]) & (scaled_sobel <= sx_thresh[1])] = 255\n",
    "    \n",
    "    # Threshold color channel\n",
    "    s_binary = np.zeros_like(scaled_sobel)\n",
    "    s_binary[(s_channel >= s_thresh[0]) & (s_channel <= s_thresh[1])] = 255\n",
    "    # Stack each channel\n",
    "    # Note color_binary[:, :, 0] is all 0s, effectively an all black image. It might\n",
    "    # be beneficial to replace this channel with something else.\n",
    "\n",
    "    color_binary = np.zeros_like(scaled_sobel).astype(np.uint8)\n",
    "    color_binary[(s_binary > 0) | (sxbinary > 0)] = 255\n",
    "    \n",
    "    return color_binary"
   ]
  },
  {
   "cell_type": "code",
   "execution_count": 11,
   "metadata": {
    "collapsed": true
   },
   "outputs": [],
   "source": [
    "import matplotlib.pyplot as plt\n",
    "\n",
    "class LineFitting:\n",
    "    def __init__(self):\n",
    "        # was the line detected in the last iteration?\n",
    "        self.detected = False  \n",
    "        # x values of the last n fits of the line\n",
    "        self.recent_leftx = [] \n",
    "        self.recent_lefty = [] \n",
    "        self.recent_rightx = [] \n",
    "        self.recent_righty = [] \n",
    "        #polynomial coefficients averaged over the last n iterations\n",
    "        self.best_left_fit = None  \n",
    "        self.best_right_fit = None  \n",
    "        #polynomial coefficients for the most recent fit\n",
    "        self.current_left_fit = [np.array([False])]  \n",
    "        self.current_right_fit = [np.array([False])]  \n",
    "        #radius of curvature of the line in some units\n",
    "        self.left_radius_of_curvature = None \n",
    "        self.right_radius_of_curvature = None \n",
    "        #distance in meters of vehicle center from the line\n",
    "        self.line_base_pos = None \n",
    "        #difference in fit coefficients between last and new fits\n",
    "        self.diffs = np.array([0,0,0], dtype='float') \n",
    "        \n",
    "    def find_line_fit(self, binary_warped, Minv):\n",
    "        histogram = np.sum(binary_warped[binary_warped.shape[0]//2:,:], axis=0)\n",
    "        # Create an output image to draw on and  visualize the result\n",
    "        out_img = np.dstack((binary_warped, binary_warped, binary_warped))\n",
    "        # Find the peak of the left and right halves of the histogram\n",
    "        # These will be the starting point for the left and right lines\n",
    "        midpoint = np.int(histogram.shape[0]/2)\n",
    "        leftx_base = np.argmax(histogram[:midpoint])\n",
    "        rightx_base = np.argmax(histogram[midpoint:]) + midpoint\n",
    "\n",
    "        # Choose the number of sliding windows\n",
    "        nwindows = 9\n",
    "        # Set height of windows\n",
    "        window_height = np.int(binary_warped.shape[0]/nwindows)\n",
    "        # Identify the x and y positions of all nonzero pixels in the image\n",
    "        nonzero = binary_warped.nonzero()\n",
    "        nonzeroy = np.array(nonzero[0])\n",
    "        nonzerox = np.array(nonzero[1])\n",
    "        # Current positions to be updated for each window\n",
    "        leftx_current = leftx_base\n",
    "        rightx_current = rightx_base\n",
    "        # Set the width of the windows +/- margin\n",
    "        margin = 100\n",
    "        # Set minimum number of pixels found to recenter window\n",
    "        minpix = 50\n",
    "        # Create empty lists to receive left and right lane pixel indices\n",
    "        left_lane_inds = []\n",
    "        right_lane_inds = []\n",
    "\n",
    "        # Step through the windows one by one\n",
    "        for window in range(nwindows):\n",
    "            # Identify window boundaries in x and y (and right and left)\n",
    "            win_y_low = binary_warped.shape[0] - (window+1)*window_height\n",
    "            win_y_high = binary_warped.shape[0] - window*window_height\n",
    "            win_xleft_low = leftx_current - margin\n",
    "            win_xleft_high = leftx_current + margin\n",
    "            win_xright_low = rightx_current - margin\n",
    "            win_xright_high = rightx_current + margin\n",
    "            # Draw the windows on the visualization image\n",
    "            cv2.rectangle(out_img,(win_xleft_low,win_y_low),(win_xleft_high,win_y_high),(0,255,0), 2) \n",
    "            cv2.rectangle(out_img,(win_xright_low,win_y_low),(win_xright_high,win_y_high),(0,255,0), 2) \n",
    "            # Identify the nonzero pixels in x and y within the window\n",
    "            good_left_inds = ((nonzeroy >= win_y_low) & (nonzeroy < win_y_high) & (nonzerox >= win_xleft_low) & (nonzerox < win_xleft_high)).nonzero()[0]\n",
    "            good_right_inds = ((nonzeroy >= win_y_low) & (nonzeroy < win_y_high) & (nonzerox >= win_xright_low) & (nonzerox < win_xright_high)).nonzero()[0]\n",
    "            # Append these indices to the lists\n",
    "            left_lane_inds.append(good_left_inds)\n",
    "            right_lane_inds.append(good_right_inds)\n",
    "            # If you found > minpix pixels, recenter next window on their mean position\n",
    "            if len(good_left_inds) > minpix:\n",
    "                leftx_current = np.int(np.mean(nonzerox[good_left_inds]))\n",
    "            if len(good_right_inds) > minpix:        \n",
    "                rightx_current = np.int(np.mean(nonzerox[good_right_inds]))\n",
    "\n",
    "        # Concatenate the arrays of indices\n",
    "        left_lane_inds = np.concatenate(left_lane_inds)\n",
    "        right_lane_inds = np.concatenate(right_lane_inds)\n",
    "\n",
    "        # Extract left and right line pixel positions\n",
    "        self.recent_leftx = nonzerox[left_lane_inds]\n",
    "        self.recent_lefty = nonzeroy[left_lane_inds] \n",
    "        self.recent_rightx = nonzerox[right_lane_inds]\n",
    "        self.recent_righty = nonzeroy[right_lane_inds] \n",
    "        leftx = self.recent_leftx\n",
    "        lefty = self.recent_lefty\n",
    "        rightx = self.recent_rightx\n",
    "        righty = self.recent_righty\n",
    "        \n",
    "        # Fit a second order polynomial to each\n",
    "        left_fit = np.polyfit(lefty, leftx, 2)\n",
    "        right_fit = np.polyfit(righty, rightx, 2)\n",
    "        if (self.detected):\n",
    "            left_diff_prev = abs(left_fit - self.current_left_fit)\n",
    "            right_diff_prev = abs(right_fit - self.current_right_fit)\n",
    "            diff_fit = abs(left_fit - right_fit)\n",
    "            # are lanes parallel ?\n",
    "            if (diff_fit[0] > 0.005 or diff_fit[1] > 0.3):\n",
    "                self.detected = False\n",
    "                left_fit = self.current_left_fit\n",
    "                right_fit = self.current_right_fit\n",
    "                \n",
    "            # do lanes diverge too much from previous frame?\n",
    "            if (left_diff_prev[0] > 0.001 or right_diff_prev[0] > 0.001 or\n",
    "               left_diff_prev[1] > 0.5 or right_diff_prev[1] > 0.5 or\n",
    "               left_diff_prev[2] > 500 or right_diff_prev[2] > 500):\n",
    "                print(left_diff_prev, right_diff_prev)\n",
    "                self.detected = False\n",
    "                left_fit = self.current_left_fit\n",
    "                right_fit = self.current_right_fit\n",
    "                \n",
    "        left_fit_avg = []\n",
    "        right_fit_avg = []\n",
    "        if (self.detected ):\n",
    "            left_fit_avg = (left_fit + self.current_left_fit) / float(2)\n",
    "            right_fit_avg = (right_fit + self.current_right_fit) / float(2)\n",
    "        else:\n",
    "            left_fit_avg = left_fit\n",
    "            right_fit_avg = right_fit\n",
    "        \n",
    "        self.current_left_fit = left_fit\n",
    "        self.current_right_fit = right_fit\n",
    "        self.best_left_fit = left_fit_avg\n",
    "        self.best_right_fit = right_fit_avg\n",
    "        \n",
    "        left_fit = self.best_left_fit\n",
    "        right_fit = self.best_right_fit\n",
    "        left_eval = np.max(self.recent_lefty)\n",
    "        right_eval = np.max(self.recent_righty)\n",
    "        left_curverad = ((1 + (2*left_fit[0]*left_eval + left_fit[1])**2)**1.5) / np.absolute(2*left_fit[0])\n",
    "        right_curverad = ((1 + (2*right_fit[0]*right_eval + right_fit[1])**2)**1.5) / np.absolute(2*right_fit[0])\n",
    "\n",
    "        # Define conversions in x and y from pixels space to meters\n",
    "        ym_per_pix = 30/720 # meters per pixel in y dimension\n",
    "        xm_per_pix = 3.7/700 # meters per pixel in x dimension\n",
    "\n",
    "        # Fit new polynomials to x,y in world space\n",
    "        left_fit_cr = np.polyfit(lefty*ym_per_pix, leftx*xm_per_pix, 2)\n",
    "        right_fit_cr = np.polyfit(righty*ym_per_pix, rightx*xm_per_pix, 2)\n",
    "        # Calculate the new radii of curvature\n",
    "        self.left_radius_of_curvature = ((1 + (2*left_fit_cr[0]*left_eval*ym_per_pix + left_fit_cr[1])**2)**1.5) / np.absolute(2*left_fit_cr[0])\n",
    "        self.right_radius_of_curvature = ((1 + (2*right_fit_cr[0]*right_eval*ym_per_pix + right_fit_cr[1])**2)**1.5) / np.absolute(2*right_fit_cr[0])\n",
    "      \n",
    "        # measure offset from center\n",
    "        offset = 100\n",
    "        y_bottom = binary_warped.shape[0] - offset\n",
    "        x_left = left_fit[0]*y_bottom*y_bottom + left_fit[1]*y_bottom + left_fit[2]\n",
    "        x_right = right_fit[0]*y_bottom*y_bottom + right_fit[1]*y_bottom + right_fit[2]\n",
    "        x_center = int((x_left + x_right) / 2)\n",
    "        x_image_center = binary_warped.shape[1] / 2\n",
    "        self.line_base_pos = abs(x_center - x_image_center)*xm_per_pix\n",
    "      \n",
    "        warp_zero = np.zeros_like(binary_warped).astype(np.uint8)\n",
    "        color_warp = np.dstack((warp_zero, warp_zero, warp_zero))\n",
    "        ploty = np.linspace(0, binary_warped.shape[0]-1, binary_warped.shape[0] )\n",
    "        left_fitx = left_fit[0]*ploty**2 + left_fit[1]*ploty + left_fit[2]\n",
    "        right_fitx = right_fit[0]*ploty**2 + right_fit[1]*ploty + right_fit[2]\n",
    "\n",
    "        # Recast the x and y points into usable format for cv2.fillPoly()\n",
    "        pts_left = np.array([np.transpose(np.vstack([left_fitx, ploty]))])\n",
    "        pts_right = np.array([np.flipud(np.transpose(np.vstack([right_fitx, ploty])))])\n",
    "        pts = np.hstack((pts_left, pts_right))\n",
    "        # Draw the lane onto the warped blank image\n",
    "        cv2.fillPoly(color_warp, np.int_([pts]), (0,255, 0))\n",
    "\n",
    "        # Warp the blank back to original image space using inverse perspective matrix (Minv)\n",
    "        newwarp = cv2.warpPerspective(color_warp, Minv, (binary_warped.shape[1], binary_warped.shape[0]))\n",
    "        self.detected = True\n",
    "        \"\"\"\n",
    "        plt.figure()\n",
    "        out_img[nonzeroy[left_lane_inds], nonzerox[left_lane_inds]] = [255, 0, 0]\n",
    "        out_img[nonzeroy[right_lane_inds], nonzerox[right_lane_inds]] = [0, 0, 255]\n",
    "        plt.imshow(out_img)\n",
    "        plt.plot(left_fitx, ploty, color='green', linewidth=3)\n",
    "        plt.plot(right_fitx, ploty, color='green', linewidth=3)\n",
    "        plt.xlim(0, 1280)\n",
    "        plt.ylim(720, 0)\n",
    "        \"\"\"\n",
    "        return newwarp"
   ]
  },
  {
   "cell_type": "code",
   "execution_count": 12,
   "metadata": {
    "collapsed": true
   },
   "outputs": [],
   "source": [
    "def pipeline(img, lineFit):\n",
    "    undistorted = cal_undistort(img)\n",
    "    #cv2.imwrite(\"output_images/undistorted.jpg\", undistorted)\n",
    "    edges = detect_edges(undistorted)\n",
    "    #cv2.imwrite(\"output_images/binary.jpg\", edges)\n",
    "    edges = np.array(edges)\n",
    "    \n",
    "    #edges = undistorted\n",
    "    offset = 180\n",
    "    img_size = (edges.shape[1], edges.shape[0])\n",
    "    src = np.float32([[560,475], [724, 475], [1028,670], [270,670]])\n",
    "    dst = np.float32([[offset, offset], [img_size[0]-offset, offset], \n",
    "                     [img_size[0]-offset, img_size[1]-offset], \n",
    "                     [offset, img_size[1]-offset]])\n",
    "\n",
    "    M = cv2.getPerspectiveTransform(src, dst)\n",
    "    Minv = cv2.getPerspectiveTransform(dst, src)\n",
    "    # Warp the image using OpenCV warpPerspective()\n",
    "    \n",
    "    warped = cv2.warpPerspective(edges, M, img_size)\n",
    "    #cv2.imwrite(\"output_images/warped.jpg\", warped)\n",
    "    new_warped = lineFit.find_line_fit(warped, Minv)\n",
    "    result = cv2.addWeighted(undistorted[200:,:], 1, new_warped[200:,:], 0.3, 0)\n",
    "    radius_curve = max(lineFit.left_radius_of_curvature, lineFit.left_radius_of_curvature)\n",
    "    radius_curve_str = \"Radius of Curvature: \" + str(radius_curve) + \" m\"\n",
    "    center_offset_str = \"Offset from center: \" + str(\"{:1.4f}\".format(lineFit.line_base_pos)) + \" m\"\n",
    "    cv2.putText(result, radius_curve_str, (50,50), cv2.FONT_HERSHEY_SIMPLEX, 1, 255)\n",
    "    cv2.putText(result, center_offset_str, (50,100), cv2.FONT_HERSHEY_SIMPLEX, 1, 255)\n",
    "    return result"
   ]
  },
  {
   "cell_type": "code",
   "execution_count": 6,
   "metadata": {},
   "outputs": [
    {
     "name": "stdout",
     "output_type": "stream",
     "text": [
      "test_images\\straight_lines1.jpg\n",
      "test_images\\straight_lines2.jpg\n",
      "test_images\\test1.jpg\n",
      "test_images\\test2.jpg\n",
      "test_images\\test3.jpg\n",
      "test_images\\test4.jpg\n",
      "test_images\\test5.jpg\n",
      "test_images\\test6.jpg\n"
     ]
    }
   ],
   "source": [
    "test_images = glob.glob(\"test_images\\*.jpg\")\n",
    "count = 0\n",
    "for filename in test_images:\n",
    "    print (filename)\n",
    "    img = cv2.imread(filename)\n",
    "    lineFit = LineFitting()\n",
    "    warped = pipeline(img, lineFit)\n",
    "    output_name = \"warped\" + str(count) + \".jpg\"\n",
    "    count = count + 1\n",
    "    cv2.imwrite(\"output_images\\\\\" + output_name, warped)"
   ]
  },
  {
   "cell_type": "code",
   "execution_count": 7,
   "metadata": {
    "collapsed": true
   },
   "outputs": [],
   "source": [
    "# Import everything needed to edit/save/watch video clips\n",
    "import imageio\n",
    "imageio.plugins.ffmpeg.download()\n",
    "from moviepy.editor import VideoFileClip\n",
    "from IPython.display import HTML"
   ]
  },
  {
   "cell_type": "code",
   "execution_count": 15,
   "metadata": {
    "collapsed": true
   },
   "outputs": [],
   "source": [
    "lineFit = LineFitting()\n",
    "count  = 0\n",
    "def process_image(image):\n",
    "    # NOTE: The output you return should be a color image (3 channel) for processing video below\n",
    "    # TODO: put your pipeline here,\n",
    "    # you should return the final output (image where lines are drawn on lanes)\n",
    "    global lineFit\n",
    "    global count\n",
    "    count = count + 1\n",
    "   \n",
    "    warped = pipeline(image, lineFit)\n",
    "    return warped"
   ]
  },
  {
   "cell_type": "code",
   "execution_count": 16,
   "metadata": {},
   "outputs": [
    {
     "name": "stdout",
     "output_type": "stream",
     "text": [
      "[MoviePy] >>>> Building video project_video_result.mp4\n",
      "[MoviePy] Writing video project_video_result.mp4\n"
     ]
    },
    {
     "name": "stderr",
     "output_type": "stream",
     "text": [
      " 45%|████▌     | 569/1261 [01:28<01:32,  7.49it/s]"
     ]
    },
    {
     "name": "stdout",
     "output_type": "stream",
     "text": [
      "[  6.42921496e-04   5.96198842e-01   1.35493875e+02] [  3.18071988e-04   1.90018466e-01   1.30602788e+01]\n"
     ]
    },
    {
     "name": "stderr",
     "output_type": "stream",
     "text": [
      " 46%|████▌     | 576/1261 [01:29<01:34,  7.26it/s]"
     ]
    },
    {
     "name": "stdout",
     "output_type": "stream",
     "text": [
      "[  5.34467939e-04   5.02060313e-01   1.20047616e+02] [  2.44069326e-04   9.04348255e-02   4.92728236e+00]\n"
     ]
    },
    {
     "name": "stderr",
     "output_type": "stream",
     "text": [
      "\r",
      " 46%|████▌     | 577/1261 [01:29<01:35,  7.19it/s]"
     ]
    },
    {
     "name": "stdout",
     "output_type": "stream",
     "text": [
      "[  5.60151422e-04   5.39281434e-01   1.33241118e+02] [  2.52385555e-04   7.55916194e-02   2.00864931e+01]\n"
     ]
    },
    {
     "name": "stderr",
     "output_type": "stream",
     "text": [
      "\r",
      " 46%|████▌     | 578/1261 [01:29<01:41,  6.71it/s]"
     ]
    },
    {
     "name": "stdout",
     "output_type": "stream",
     "text": [
      "[  6.15642888e-04   6.19433897e-01   1.60026120e+02] [  1.09247229e-04   7.57241127e-03   3.77333291e+01]\n"
     ]
    },
    {
     "name": "stderr",
     "output_type": "stream",
     "text": [
      "\r",
      " 46%|████▌     | 579/1261 [01:30<01:44,  6.56it/s]"
     ]
    },
    {
     "name": "stdout",
     "output_type": "stream",
     "text": [
      "[  5.02908369e-04   5.13289607e-01   1.35911316e+02] [  8.66084555e-05   3.43716817e-02   4.09717459e+01]\n"
     ]
    },
    {
     "name": "stderr",
     "output_type": "stream",
     "text": [
      " 46%|████▌     | 583/1261 [01:30<01:36,  7.00it/s]"
     ]
    },
    {
     "name": "stdout",
     "output_type": "stream",
     "text": [
      "[  1.10433324e-03   1.03181680e+00   2.35168407e+02] [  2.41743320e-05   8.76968960e-03   1.61285428e+01]\n"
     ]
    },
    {
     "name": "stderr",
     "output_type": "stream",
     "text": [
      "\r",
      " 46%|████▋     | 584/1261 [01:30<01:36,  7.04it/s]"
     ]
    },
    {
     "name": "stdout",
     "output_type": "stream",
     "text": [
      "[  6.72799139e-04   6.42086080e-01   1.50142876e+02] [  6.41437603e-05   5.59699927e-02   4.33423042e+00]\n"
     ]
    },
    {
     "name": "stderr",
     "output_type": "stream",
     "text": [
      "\r",
      " 46%|████▋     | 585/1261 [01:30<01:40,  6.74it/s]"
     ]
    },
    {
     "name": "stdout",
     "output_type": "stream",
     "text": [
      "[  1.03616297e-03   9.78469529e-01   2.25873574e+02] [ 0.0001747   0.09585426  0.0016616 ]\n"
     ]
    },
    {
     "name": "stderr",
     "output_type": "stream",
     "text": [
      "\r",
      " 46%|████▋     | 586/1261 [01:31<01:43,  6.55it/s]"
     ]
    },
    {
     "name": "stdout",
     "output_type": "stream",
     "text": [
      "[  1.26801341e-03   1.14875244e+00   2.55845027e+02] [  1.89168578e-04   1.43251073e-01   1.59163164e+01]\n"
     ]
    },
    {
     "name": "stderr",
     "output_type": "stream",
     "text": [
      "\r",
      " 47%|████▋     | 587/1261 [01:31<01:47,  6.25it/s]"
     ]
    },
    {
     "name": "stdout",
     "output_type": "stream",
     "text": [
      "[  1.72663044e-03   1.62684963e+00   3.77380380e+02] [  4.14805954e-04   2.49016257e-01   2.19936401e+01]\n"
     ]
    },
    {
     "name": "stderr",
     "output_type": "stream",
     "text": [
      "\r",
      " 47%|████▋     | 588/1261 [01:31<01:48,  6.22it/s]"
     ]
    },
    {
     "name": "stdout",
     "output_type": "stream",
     "text": [
      "[  1.66238205e-03   1.56105577e+00   3.61588936e+02] [  7.78941529e-04   4.27657764e-01   3.92853704e+01]\n"
     ]
    },
    {
     "name": "stderr",
     "output_type": "stream",
     "text": [
      "\r",
      " 47%|████▋     | 589/1261 [01:31<01:46,  6.32it/s]"
     ]
    },
    {
     "name": "stdout",
     "output_type": "stream",
     "text": [
      "[  1.41784027e-03   1.28220096e+00   2.97329529e+02] [  4.59955188e-04   3.23214679e-01   5.03631521e+01]\n"
     ]
    },
    {
     "name": "stderr",
     "output_type": "stream",
     "text": [
      "\r",
      " 47%|████▋     | 590/1261 [01:31<01:49,  6.11it/s]"
     ]
    },
    {
     "name": "stdout",
     "output_type": "stream",
     "text": [
      "[  1.12414526e-03   9.64068262e-01   2.19745105e+02] [  5.11921676e-04   3.88850758e-01   6.75252520e+01]\n"
     ]
    },
    {
     "name": "stderr",
     "output_type": "stream",
     "text": [
      "\r",
      " 47%|████▋     | 591/1261 [01:31<01:50,  6.06it/s]"
     ]
    },
    {
     "name": "stdout",
     "output_type": "stream",
     "text": [
      "[  1.28363723e-03   1.10895626e+00   2.52162704e+02] [  5.41128922e-04   4.42960452e-01   7.86065909e+01]\n"
     ]
    },
    {
     "name": "stderr",
     "output_type": "stream",
     "text": [
      "\r",
      " 47%|████▋     | 592/1261 [01:32<01:55,  5.81it/s]"
     ]
    },
    {
     "name": "stdout",
     "output_type": "stream",
     "text": [
      "[  1.63276268e-03   1.56102440e+00   3.83871347e+02] [  4.65907423e-04   4.06693051e-01   7.71100433e+01]\n"
     ]
    },
    {
     "name": "stderr",
     "output_type": "stream",
     "text": [
      "\r",
      " 47%|████▋     | 593/1261 [01:32<01:54,  5.85it/s]"
     ]
    },
    {
     "name": "stdout",
     "output_type": "stream",
     "text": [
      "[  1.23458057e-03   1.17908668e+00   2.97128712e+02] [  2.95190562e-04   3.35830965e-01   7.63653871e+01]\n"
     ]
    },
    {
     "name": "stderr",
     "output_type": "stream",
     "text": [
      "\r",
      " 47%|████▋     | 594/1261 [01:32<01:57,  5.70it/s]"
     ]
    },
    {
     "name": "stdout",
     "output_type": "stream",
     "text": [
      "[  1.29914344e-03   1.25525262e+00   3.17556045e+02] [  2.62744428e-04   3.31322984e-01   7.36156551e+01]\n"
     ]
    },
    {
     "name": "stderr",
     "output_type": "stream",
     "text": [
      "\r",
      " 47%|████▋     | 595/1261 [01:32<01:58,  5.62it/s]"
     ]
    },
    {
     "name": "stdout",
     "output_type": "stream",
     "text": [
      "[  1.61011719e-03   1.61037207e+00   4.18819780e+02] [  3.21388685e-04   3.92777137e-01   9.37869334e+01]\n"
     ]
    },
    {
     "name": "stderr",
     "output_type": "stream",
     "text": [
      "\r",
      " 47%|████▋     | 596/1261 [01:32<02:02,  5.43it/s]"
     ]
    },
    {
     "name": "stdout",
     "output_type": "stream",
     "text": [
      "[  7.13308708e-04   7.66182909e-01   2.23932317e+02] [  2.14225596e-04   3.39075139e-01   9.31717695e+01]\n"
     ]
    },
    {
     "name": "stderr",
     "output_type": "stream",
     "text": [
      " 48%|████▊     | 611/1261 [01:35<01:33,  6.96it/s]"
     ]
    },
    {
     "name": "stdout",
     "output_type": "stream",
     "text": [
      "[  6.47194627e-05   6.26546370e-02   2.13442479e+01] [  7.68098936e-03   7.06112255e+00   2.06718169e+03]\n"
     ]
    },
    {
     "name": "stderr",
     "output_type": "stream",
     "text": [
      "\r",
      " 49%|████▊     | 612/1261 [01:35<01:32,  7.00it/s]"
     ]
    },
    {
     "name": "stdout",
     "output_type": "stream",
     "text": [
      "[  7.90603596e-05   8.57006848e-02   2.99074104e+01] [  1.51858412e-04   2.93415745e-01   5.71674903e+02]\n"
     ]
    },
    {
     "name": "stderr",
     "output_type": "stream",
     "text": [
      "\r",
      " 49%|████▊     | 613/1261 [01:35<01:39,  6.52it/s]"
     ]
    },
    {
     "name": "stdout",
     "output_type": "stream",
     "text": [
      "[  1.07506735e-04   1.25879296e-01   4.34639002e+01] [  2.69481198e-02   2.66750511e+01   6.07521537e+03]\n"
     ]
    },
    {
     "name": "stderr",
     "output_type": "stream",
     "text": [
      "\r",
      " 49%|████▊     | 614/1261 [01:35<01:41,  6.36it/s]"
     ]
    },
    {
     "name": "stdout",
     "output_type": "stream",
     "text": [
      "[  1.14363567e-04   1.41105333e-01   4.43860315e+01] [  5.63796559e-03   5.39111379e+00   1.76909928e+03]\n"
     ]
    },
    {
     "name": "stderr",
     "output_type": "stream",
     "text": [
      "\r",
      " 49%|████▉     | 615/1261 [01:35<01:46,  6.06it/s]"
     ]
    },
    {
     "name": "stdout",
     "output_type": "stream",
     "text": [
      "[  1.54548412e-04   2.16480937e-01   7.08250599e+01] [  1.87926748e-02   1.87287313e+01   4.17771486e+03]\n"
     ]
    },
    {
     "name": "stderr",
     "output_type": "stream",
     "text": [
      "\r",
      " 49%|████▉     | 616/1261 [01:36<01:49,  5.89it/s]"
     ]
    },
    {
     "name": "stdout",
     "output_type": "stream",
     "text": [
      "[  1.15853938e-04   2.40597110e-01   9.11499549e+01] [  7.12458011e-02   7.48634407e+01   1.91730176e+04]\n"
     ]
    },
    {
     "name": "stderr",
     "output_type": "stream",
     "text": [
      " 61%|██████    | 768/1261 [01:57<01:07,  7.28it/s]"
     ]
    },
    {
     "name": "stdout",
     "output_type": "stream",
     "text": [
      "[  4.88593038e-05   5.83644253e-02   1.89947973e+01] [  7.57015175e-04   5.72595101e-01   1.08181208e+02]\n"
     ]
    },
    {
     "name": "stderr",
     "output_type": "stream",
     "text": [
      "\r",
      " 61%|██████    | 769/1261 [01:57<01:08,  7.14it/s]"
     ]
    },
    {
     "name": "stdout",
     "output_type": "stream",
     "text": [
      "[  7.33645764e-05   7.98930394e-02   2.47884248e+01] [  7.64826009e-04   5.93695188e-01   1.14578170e+02]\n"
     ]
    },
    {
     "name": "stderr",
     "output_type": "stream",
     "text": [
      "\r",
      " 61%|██████    | 770/1261 [01:58<01:12,  6.77it/s]"
     ]
    },
    {
     "name": "stdout",
     "output_type": "stream",
     "text": [
      "[  2.52535749e-05   5.28228410e-02   2.24667679e+01] [  6.84745031e-04   5.58289476e-01   1.10471670e+02]\n"
     ]
    },
    {
     "name": "stderr",
     "output_type": "stream",
     "text": [
      "\r",
      " 61%|██████    | 771/1261 [01:58<01:15,  6.50it/s]"
     ]
    },
    {
     "name": "stdout",
     "output_type": "stream",
     "text": [
      "[  6.54183974e-05   5.16876020e-02   1.30428591e+01] [  6.36915051e-04   5.36923249e-01   1.06186981e+02]\n"
     ]
    },
    {
     "name": "stderr",
     "output_type": "stream",
     "text": [
      "\r",
      " 61%|██████    | 772/1261 [01:58<01:17,  6.31it/s]"
     ]
    },
    {
     "name": "stdout",
     "output_type": "stream",
     "text": [
      "[  6.25103046e-05   4.60003546e-02   9.37619561e+00] [  6.50789171e-04   5.55921655e-01   1.10295728e+02]\n"
     ]
    },
    {
     "name": "stderr",
     "output_type": "stream",
     "text": [
      " 79%|███████▉  | 1000/1261 [02:31<00:35,  7.31it/s]"
     ]
    },
    {
     "name": "stdout",
     "output_type": "stream",
     "text": [
      "[  3.27461006e-05   1.46211776e-02   8.91763017e+00] [  1.22953947e-02   1.16756066e+01   2.39067375e+03]\n"
     ]
    },
    {
     "name": "stderr",
     "output_type": "stream",
     "text": [
      "\r",
      " 79%|███████▉  | 1001/1261 [02:31<00:36,  7.20it/s]"
     ]
    },
    {
     "name": "stdout",
     "output_type": "stream",
     "text": [
      "[  9.48417167e-05   1.00821338e-01   5.01149772e+01] [  8.80573013e-03   8.75510751e+00   1.80487220e+03]\n"
     ]
    },
    {
     "name": "stderr",
     "output_type": "stream",
     "text": [
      " 80%|███████▉  | 1003/1261 [02:32<00:37,  6.89it/s]"
     ]
    },
    {
     "name": "stdout",
     "output_type": "stream",
     "text": [
      "[  1.06777867e-04   1.32398088e-01   5.04739276e+01] [  2.09944593e-03   2.48016913e+00   1.02350198e+03]\n"
     ]
    },
    {
     "name": "stderr",
     "output_type": "stream",
     "text": [
      " 80%|████████  | 1014/1261 [02:33<00:37,  6.64it/s]"
     ]
    },
    {
     "name": "stdout",
     "output_type": "stream",
     "text": [
      "[  3.25522663e-04   3.05047545e-01   7.31476022e+01] [  4.41294465e-03   5.32231030e+00   1.93757965e+03]\n"
     ]
    },
    {
     "name": "stderr",
     "output_type": "stream",
     "text": [
      " 83%|████████▎ | 1044/1261 [02:38<00:42,  5.07it/s]"
     ]
    },
    {
     "name": "stdout",
     "output_type": "stream",
     "text": [
      "[  9.20619673e-05   1.52289286e-01   3.68364482e+01] [  1.10731037e-03   1.22757215e+00   3.38831615e+02]\n"
     ]
    },
    {
     "name": "stderr",
     "output_type": "stream",
     "text": [
      " 83%|████████▎ | 1046/1261 [02:38<00:44,  4.84it/s]"
     ]
    },
    {
     "name": "stdout",
     "output_type": "stream",
     "text": [
      "[  5.53125064e-05   3.31202105e-05   1.36634693e+01] [  1.17295122e-03   1.37067689e+00   7.83887736e+02]\n"
     ]
    },
    {
     "name": "stderr",
     "output_type": "stream",
     "text": [
      "\r",
      " 83%|████████▎ | 1047/1261 [02:39<00:42,  5.02it/s]"
     ]
    },
    {
     "name": "stdout",
     "output_type": "stream",
     "text": [
      "[  1.43155531e-05   8.29486016e-02   3.51042840e+01] [  8.42901587e-04   1.03585990e+00   7.13569310e+02]\n"
     ]
    },
    {
     "name": "stderr",
     "output_type": "stream",
     "text": [
      "\r",
      " 83%|████████▎ | 1048/1261 [02:39<00:52,  4.04it/s]"
     ]
    },
    {
     "name": "stdout",
     "output_type": "stream",
     "text": [
      "[  9.16396910e-07   9.90906185e-02   4.41077845e+01] [  1.57752666e-02   1.57318734e+01   4.32116105e+03]\n"
     ]
    },
    {
     "name": "stderr",
     "output_type": "stream",
     "text": [
      "\r",
      " 83%|████████▎ | 1049/1261 [02:39<00:50,  4.21it/s]"
     ]
    },
    {
     "name": "stdout",
     "output_type": "stream",
     "text": [
      "[  2.07914334e-06   1.17342291e-01   5.95426508e+01] [  1.08664723e-02   1.13882340e+01   3.37068740e+03]\n"
     ]
    },
    {
     "name": "stderr",
     "output_type": "stream",
     "text": [
      " 97%|█████████▋| 1228/1261 [03:10<00:05,  6.49it/s]"
     ]
    },
    {
     "name": "stdout",
     "output_type": "stream",
     "text": [
      "[  1.34000831e-04   1.85125585e-01   5.58731169e+01] [  5.48682956e-04   5.12042643e-01   1.02323723e+02]\n"
     ]
    },
    {
     "name": "stderr",
     "output_type": "stream",
     "text": [
      "100%|█████████▉| 1260/1261 [03:15<00:00,  6.55it/s]\n"
     ]
    },
    {
     "name": "stdout",
     "output_type": "stream",
     "text": [
      "[MoviePy] Done.\n",
      "[MoviePy] >>>> Video ready: project_video_result.mp4 \n",
      "\n",
      "Wall time: 3min 17s\n"
     ]
    }
   ],
   "source": [
    "white_output = 'project_video_result.mp4'\n",
    "clip1 = VideoFileClip(\"project_video.mp4\")\n",
    "white_clip = clip1.fl_image(process_image) #NOTE: this function expects color images!!\n",
    "%time white_clip.write_videofile(white_output, audio=False)"
   ]
  }
 ],
 "metadata": {
  "anaconda-cloud": {},
  "kernelspec": {
   "display_name": "Python 3",
   "language": "python",
   "name": "python3"
  },
  "language_info": {
   "codemirror_mode": {
    "name": "ipython",
    "version": 3
   },
   "file_extension": ".py",
   "mimetype": "text/x-python",
   "name": "python",
   "nbconvert_exporter": "python",
   "pygments_lexer": "ipython3",
   "version": "3.5.2"
  },
  "widgets": {
   "state": {},
   "version": "1.1.2"
  }
 },
 "nbformat": 4,
 "nbformat_minor": 1
}
